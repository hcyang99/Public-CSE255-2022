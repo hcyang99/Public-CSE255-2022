{
 "cells": [
  {
   "cell_type": "code",
   "execution_count": null,
   "id": "d504d8db",
   "metadata": {},
   "outputs": [],
   "source": [
    "%pylab inline\n",
    "\n",
    "from lib.KDTreeEncoding import *\n",
    "\n",
    "import xgboost as xgb\n",
    "from lib.XGBHelper import *\n",
    "from lib.XGBoost_params import *\n",
    "from lib.score_analysis import *\n",
    "\n",
    "from lib.logger import logger\n",
    "\n",
    "from sklearn.model_selection import train_test_split\n",
    "import matplotlib.pyplot as plt\n",
    "import numpy as np\n",
    "from numpy import load\n",
    "from glob import glob\n",
    "import pandas as pd\n",
    "import pickle as pkl\n",
    "from copy import deepcopy"
   ]
  },
  {
   "cell_type": "markdown",
   "id": "0cc494f9",
   "metadata": {},
   "source": [
    "###  load image filenames"
   ]
  },
  {
   "cell_type": "code",
   "execution_count": null,
   "id": "b4d5d368",
   "metadata": {},
   "outputs": [],
   "source": [
    "poverty_dir='/mnt/repos/dataset/'\n",
    "#use the following line when running on datahub\n",
    "#poverty_dir = '/datasets/cs255-sp22-a00-public/poverty/'\n",
    "depth=8   #for KDTree"
   ]
  },
  {
   "cell_type": "code",
   "execution_count": null,
   "id": "c7634587",
   "metadata": {},
   "outputs": [],
   "source": [
    "## load file list\n",
    "image_dir=poverty_dir+'/anon_images'\n",
    "files=[]\n",
    "files+=glob(f'{image_dir}/*.npz')\n",
    "len(files)"
   ]
  },
  {
   "cell_type": "code",
   "execution_count": null,
   "id": "35d05d0f",
   "metadata": {},
   "outputs": [],
   "source": [
    "!ls ../public_tables/"
   ]
  },
  {
   "cell_type": "code",
   "execution_count": null,
   "id": "7e2c5355",
   "metadata": {},
   "outputs": [],
   "source": [
    "#load table entries\n",
    "train_table='../public_tables/train.csv'\n",
    "!ls -l $train_table\n",
    "\n",
    "df=pd.read_csv(train_table,index_col=0)\n",
    "df.index=df['filename']\n",
    "df.shape"
   ]
  },
  {
   "cell_type": "code",
   "execution_count": null,
   "id": "fd8d7958",
   "metadata": {},
   "outputs": [],
   "source": [
    "#List the number of rows for each country, countries 0-4 are missing - the are in the country_test set\n",
    "from collections import Counter\n",
    "C=Counter(df['country'])\n",
    "[(k,C[k]) for k in sorted(C)]"
   ]
  },
  {
   "cell_type": "markdown",
   "id": "3a86223a",
   "metadata": {},
   "source": [
    "## train color encoder\n",
    "\n",
    "Creates a KDtree in color space"
   ]
  },
  {
   "cell_type": "code",
   "execution_count": null,
   "id": "5f3a36be",
   "metadata": {},
   "outputs": [],
   "source": [
    "%%time\n",
    "## Generate encoding tree\n",
    "train_size,tree=train_encoder(files,max_images=500,tree_depth=8)"
   ]
  },
  {
   "cell_type": "code",
   "execution_count": null,
   "id": "871de45a",
   "metadata": {
    "scrolled": true
   },
   "outputs": [],
   "source": [
    "%%time\n",
    "## Encode all data using encoding tree\n",
    "Enc_data=encoded_dataset(image_dir,df,tree,label_col='label')"
   ]
  },
  {
   "cell_type": "code",
   "execution_count": null,
   "id": "648445ac",
   "metadata": {},
   "outputs": [],
   "source": [
    "Enc_data.data.shape"
   ]
  },
  {
   "cell_type": "code",
   "execution_count": null,
   "id": "fa6ea8a5",
   "metadata": {},
   "outputs": [],
   "source": [
    "\n",
    "D=DataSplitter(Enc_data.data)"
   ]
  },
  {
   "cell_type": "markdown",
   "id": "b4e739e2",
   "metadata": {},
   "source": [
    "### Train and test"
   ]
  },
  {
   "cell_type": "code",
   "execution_count": null,
   "id": "c5100437",
   "metadata": {},
   "outputs": [],
   "source": [
    "# set parameters for XGBoost\n",
    "param['max_depth']=2\n",
    "param['num_round']=10\n",
    "param"
   ]
  },
  {
   "cell_type": "markdown",
   "id": "20060bca",
   "metadata": {},
   "source": [
    "## Train on Urban only\n",
    "Random split into train and test."
   ]
  },
  {
   "cell_type": "code",
   "execution_count": null,
   "id": "5b5712d6",
   "metadata": {},
   "outputs": [],
   "source": [
    "%%time\n",
    "urban=True\n",
    "area= 'Urban' if urban else 'Rural'\n",
    "selector=df['urban']==urban\n",
    "subData=D.get_subset(selector)\n",
    "subD=DataSplitter(subData)\n",
    "\n",
    "train_selector=np.random.rand(subData.shape[0]) > 0.7\n",
    "Train=subD.get_subset(train_selector)\n",
    "Test=subD.get_subset(~train_selector)\n",
    "\n",
    "param['num_round']=10\n",
    "log10=simple_bootstrap(Train,Test,param,ensemble_size=30)\n",
    "param['num_round']=100\n",
    "log100=simple_bootstrap(Train,Test,param,ensemble_size=30)\n",
    "\n",
    "styled_logs=[\n",
    "    {   'log':log10,\n",
    "        'style':['g:','g-'],\n",
    "        'label':'10 iterations',\n",
    "        'label_color':'g'\n",
    "    },\n",
    "    {   'log':log100,\n",
    "        'style':['b:','b-'],\n",
    "        'label':'100 iterations',\n",
    "        'label_color':'b'\n",
    "    }\n",
    "]\n",
    "\n",
    "_mean,_std=plot_scores(styled_logs,title=f'{area}Only: Split into train and test at random')\n",
    "\n",
    "dump_urban = deepcopy({'styled_logs':styled_logs,\n",
    "    'tree':tree,\n",
    "    'mean':_mean,\n",
    "    'std':_std})"
   ]
  },
  {
   "cell_type": "markdown",
   "id": "251fbc2c",
   "metadata": {},
   "source": [
    "## Train on Rural only\n",
    "Random split into train and test."
   ]
  },
  {
   "cell_type": "code",
   "execution_count": null,
   "id": "82a01d30",
   "metadata": {},
   "outputs": [],
   "source": [
    "urban=False\n",
    "area= 'Urban' if urban else 'Rural'\n",
    "selector=df['urban']==urban\n",
    "subData=D.get_subset(selector)\n",
    "subD=DataSplitter(subData)\n",
    "\n",
    "train_selector=np.random.rand(subData.shape[0]) > 0.7\n",
    "Train=subD.get_subset(train_selector)\n",
    "Test=subD.get_subset(~train_selector)\n",
    "\n",
    "param['num_round']=10\n",
    "log10=simple_bootstrap(Train,Test,param,ensemble_size=30)\n",
    "param['num_round']=100\n",
    "log100=simple_bootstrap(Train,Test,param,ensemble_size=30)\n",
    "\n",
    "styled_logs=[\n",
    "    {   'log':log10,\n",
    "        'style':['y:','y-'],\n",
    "        'label':'10 iterations',\n",
    "        'label_color':'y'\n",
    "    },\n",
    "    {   'log':log100,\n",
    "        'style':['m:','m-'],\n",
    "        'label':'100 iterations',\n",
    "        'label_color':'m'\n",
    "    }\n",
    "]\n",
    "\n",
    "_mean,_std=plot_scores(styled_logs,title=f'{area}Only: Split into train and test at random')\n",
    "\n",
    "pickle_file='data/Checkpoint.pk'\n",
    "dump_rural=deepcopy({'styled_logs':styled_logs,\n",
    "     'tree':tree,\n",
    "     'mean':_mean,\n",
    "     'std':_std})\n",
    "pkl.dump([dump_urban, dump_rural],open(pickle_file,'wb'))\n",
    "!ls -l $pickle_file"
   ]
  }
 ],
 "metadata": {
  "interpreter": {
   "hash": "767d51c1340bd893661ea55ea3124f6de3c7a262a8b4abca0554b478b1e2ff90"
  },
  "kernelspec": {
   "display_name": "Python 3.10.4 64-bit",
   "language": "python",
   "name": "python3"
  },
  "language_info": {
   "codemirror_mode": {
    "name": "ipython",
    "version": 3
   },
   "file_extension": ".py",
   "mimetype": "text/x-python",
   "name": "python",
   "nbconvert_exporter": "python",
   "pygments_lexer": "ipython3",
   "version": "3.10.4"
  },
  "toc": {
   "base_numbering": 1,
   "nav_menu": {},
   "number_sections": true,
   "sideBar": true,
   "skip_h1_title": false,
   "title_cell": "Table of Contents",
   "title_sidebar": "Contents",
   "toc_cell": false,
   "toc_position": {},
   "toc_section_display": true,
   "toc_window_display": false
  }
 },
 "nbformat": 4,
 "nbformat_minor": 5
}
